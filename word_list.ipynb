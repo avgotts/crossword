{
 "cells": [
  {
   "cell_type": "code",
   "execution_count": 1,
   "metadata": {
    "collapsed": true
   },
   "outputs": [],
   "source": [
    "from collections import defaultdict\n",
    "filename = \"word_list.txt\"\n",
    "new_words = \"new_words.txt\""
   ]
  },
  {
   "cell_type": "code",
   "execution_count": 11,
   "metadata": {
    "collapsed": true
   },
   "outputs": [],
   "source": [
    "def word_list(file=filename): #load word list into a python dictionary\n",
    "    d = defaultdict(list)\n",
    "    f = open(file, \"r\")\n",
    "    for line in f:\n",
    "        line = line.strip().replace(\" \", \"\")\n",
    "        l = len(line)\n",
    "        d[l].append(line)\n",
    "        if len(d[l]) >= 2:\n",
    "            if d[l][-1] == d[l][-2]:\n",
    "                d[l] = d[l][:-1]\n",
    "    f.close()\n",
    "    return d\n",
    "\n",
    "def add_word(d, word): #add words to my dict\n",
    "    d[len(word)].append(word.strip().lower())\n",
    "    return d\n",
    "\n",
    "def add_list(d, file=new_words): #add all the words from my new_words list\n",
    "    f = open(file, \"r\")\n",
    "    for line in f:\n",
    "        d = add_word(d, line)\n",
    "    f.close()\n",
    "    #print(d)\n",
    "    return d\n",
    "\n",
    "def finish(d): #write my new list back to the file\n",
    "    f = open(filename, \"w\")\n",
    "    for i in d.keys():\n",
    "        d[i].sort()\n",
    "        for word in d[i]:\n",
    "            if word != \"\\n\":\n",
    "                f.write(word + \"\\n\")\n",
    "    f.close()\n",
    "    \n",
    "#this updates my word list and generates it for use.\n",
    "d = word_list()\n",
    "my_dict = add_list(d)\n",
    "finish(my_dict)"
   ]
  },
  {
   "cell_type": "code",
   "execution_count": 3,
   "metadata": {
    "collapsed": true
   },
   "outputs": [],
   "source": [
    "def minus(my_dict, string): #finds pairs of words that differ by some string\n",
    "    l = len(string)\n",
    "    for i in range(l + 3, 18):\n",
    "        for word in my_dict[i]:\n",
    "            if string in word:\n",
    "                index = word.find(string)\n",
    "                new_word = word[:index] + word[index + l:]\n",
    "                if new_word in my_dict[i-l]:\n",
    "                    print(word, new_word)\n",
    "                "
   ]
  },
  {
   "cell_type": "code",
   "execution_count": 28,
   "metadata": {
    "collapsed": false
   },
   "outputs": [],
   "source": [
    "#generates lists of anagrams of words in my list\n",
    "def alpha(word):\n",
    "    a = list(word.lower())\n",
    "    a.sort()\n",
    "    return \"\".join(a)\n",
    "\n",
    "def anagrams(d = my_dict):\n",
    "    ana = defaultdict(list)\n",
    "    for i in d.keys():\n",
    "        for word in d[i]:\n",
    "            ana[alpha(word)].append(word)\n",
    "    f = open(\"anagrams.txt\", \"w\")\n",
    "    for k in ana.keys():\n",
    "        if len(ana[k]) >= 2:\n",
    "            s = k + \": \" + \", \".join(ana[k])\n",
    "            f.write(s + \"\\n\")\n",
    "    f.close()\n",
    "\n",
    "anagrams()"
   ]
  },
  {
   "cell_type": "code",
   "execution_count": 23,
   "metadata": {
    "collapsed": false
   },
   "outputs": [
    {
     "data": {
      "text/plain": [
       "'for'"
      ]
     },
     "execution_count": 23,
     "metadata": {},
     "output_type": "execute_result"
    }
   ],
   "source": [
    "alpha(\"fro\")"
   ]
  },
  {
   "cell_type": "code",
   "execution_count": 14,
   "metadata": {
    "collapsed": true
   },
   "outputs": [],
   "source": []
  },
  {
   "cell_type": "code",
   "execution_count": null,
   "metadata": {
    "collapsed": true
   },
   "outputs": [],
   "source": []
  }
 ],
 "metadata": {
  "anaconda-cloud": {},
  "kernelspec": {
   "display_name": "Python [conda root]",
   "language": "python",
   "name": "conda-root-py"
  },
  "language_info": {
   "codemirror_mode": {
    "name": "ipython",
    "version": 3
   },
   "file_extension": ".py",
   "mimetype": "text/x-python",
   "name": "python",
   "nbconvert_exporter": "python",
   "pygments_lexer": "ipython3",
   "version": "3.5.2"
  }
 },
 "nbformat": 4,
 "nbformat_minor": 2
}
